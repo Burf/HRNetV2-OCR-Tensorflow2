{
 "cells": [
  {
   "cell_type": "code",
   "execution_count": null,
   "metadata": {
    "id": "h0979E7kYR8C"
   },
   "outputs": [],
   "source": [
    "!wget -qq https://github.com/matterport/Mask_RCNN/releases/download/v2.1/balloon_dataset.zip\n",
    "!unzip -qq balloon_dataset.zip\n",
    "\n",
    "import os\n",
    "import json\n",
    "import cv2\n",
    "import skimage.draw\n",
    "import tensorflow as tf\n",
    "import numpy as np\n",
    "\n",
    "def parse(path, target_size = (512, 512), method = cv2.INTER_CUBIC):\n",
    "    dir_path = os.path.dirname(path)\n",
    "    with open(path, \"r\") as file:\n",
    "        anno = json.loads(file.read())\n",
    "    anno = [a for a in list(anno.values()) if a[\"regions\"]]\n",
    "\n",
    "    images = []\n",
    "    masks = []\n",
    "    for a in anno:\n",
    "        if type(a['regions']) is dict:\n",
    "            polygons = [r['shape_attributes'] for r in a['regions'].values()]\n",
    "        else:\n",
    "            polygons = [r['shape_attributes'] for r in a['regions']]\n",
    "        image = cv2.cvtColor(cv2.imread(os.path.join(dir_path, a[\"filename\"]), -1), cv2.COLOR_BGR2RGB)\n",
    "        h, w = np.shape(image)[:2]\n",
    "        mask = np.zeros((h, w, len(polygons)), dtype = np.uint8)\n",
    "        for i, p in enumerate(polygons):\n",
    "            rr, cc = skimage.draw.polygon(p['all_points_y'], p['all_points_x'])\n",
    "            rr = np.clip(rr, 0, h - 1)\n",
    "            cc = np.clip(cc, 0, w - 1)\n",
    "            mask[rr, cc, i] = 1\n",
    "        \n",
    "        if target_size is not None:\n",
    "            image = cv2.resize(image, target_size[::-1], interpolation = method)\n",
    "            mask = cv2.resize(mask, target_size[::-1], interpolation = method)\n",
    "            if np.ndim(mask) == 2:\n",
    "                mask = np.expand_dims(mask, axis = -1)\n",
    "            mask = np.where(mask != 0, 1, 0)\n",
    "\n",
    "        images.append(image)\n",
    "        masks.append(np.transpose(mask, [2, 0, 1]))\n",
    "    return images, masks\n",
    "\n",
    "def pipe(data, batch_size = 2, shuffle = False):\n",
    "    dataset = tf.data.Dataset.from_tensor_slices(data)\n",
    "    if shuffle:\n",
    "        dataset = dataset.shuffle(buffer_size = batch_size * 10)\n",
    "    dataset = dataset.batch(batch_size)\n",
    "    #dataset = dataset.prefetch((batch_size * 2) + 1)\n",
    "    dataset = dataset.prefetch(tf.data.experimental.AUTOTUNE)\n",
    "    return dataset\n",
    "\n",
    "tr_anno = \"./balloon/train/via_region_data.json\"\n",
    "te_anno = \"./balloon/val/via_region_data.json\"\n",
    "\n",
    "tr_x, tr_mask = parse(tr_anno, target_size = (224, 224))\n",
    "te_x, te_mask = parse(te_anno, target_size = (224, 224))\n",
    "\n",
    "max_cnt = 0\n",
    "for mask in tr_mask + te_mask:\n",
    "    if max_cnt < len(mask):\n",
    "        max_cnt = len(mask)\n",
    "\n",
    "tr_x = np.array(tr_x, dtype = np.float32) * 1/255\n",
    "tr_mask = [np.pad(mask, [[0, max_cnt - len(mask)], [0, 0], [0, 0]]) for mask in tr_mask]\n",
    "tr_mask = np.expand_dims(np.array(tr_mask, dtype = np.float32), axis = -1)\n",
    "\n",
    "te_x = np.array(te_x, dtype = np.float32) * 1/255\n",
    "te_mask = [np.pad(mask, [[0, max_cnt - len(mask)], [0, 0], [0, 0]]) for mask in te_mask]\n",
    "te_mask = np.expand_dims(np.array(te_mask, dtype = np.float32), axis = -1)\n",
    "\n",
    "tr_mask = np.max(tr_mask, axis = 1)\n",
    "te_mask = np.max(te_mask, axis = 1)\n",
    "\n",
    "batch_size = 2\n",
    "\n",
    "tr_data = pipe((tr_x, tr_mask), batch_size = batch_size, shuffle = True)\n",
    "te_data = pipe((te_x, te_mask), batch_size = batch_size, shuffle = False)"
   ]
  },
  {
   "cell_type": "code",
   "execution_count": null,
   "metadata": {
    "id": "ySaeM_5H7Q8A"
   },
   "outputs": [],
   "source": [
    "import hrnet\n",
    "\n",
    "\"\"\"\n",
    "#hrnet v2 with backbone (custom development)\n",
    "x = tf.keras.layers.Input(shape = (224, 224, 3))\n",
    "model = tf.keras.applications.MobileNetV2(input_tensor = x, include_top = False)\n",
    "layers = [\"block_3_expand_relu\", \"block_6_expand_relu\", \"block_13_expand_relu\", \"out_relu\"]\n",
    "layers = [model.get_layer(l).output for l in layers]\n",
    "out = hrnet.hrnet18_v2(layers, n_class = 2, include_top = True, mode = \"ocr\")\n",
    "out = tf.keras.layers.UpSampling2D((4, 4))(out)\n",
    "model = tf.keras.Model(x, out)\n",
    "\n",
    "#manual initailize (hrnet18_v2 + ocr)\n",
    "x = tf.keras.layers.Input(shape = (224, 224, 3))\n",
    "out = hrnet_v2(x, n_class = 2, include_top = True, n_channel = [18, 36, 72, 144], n_module = [1, 4, 3], n_branch = [2, 3, 4], stage1_channel = 64, stage1_module = 1, ocr_feature_channel = 512, ocr_attention_channel = 256, ocr_dropout_rate = 0.05, ocr_scale = 1, mode = \"ocr\")\n",
    "out = tf.keras.layers.UpSampling2D((4, 4))(out)\n",
    "model = tf.keras.Model(x, out)\n",
    "\"\"\"\n",
    "#hrnet v2\n",
    "x = tf.keras.layers.Input(shape = (224, 224, 3))\n",
    "out = hrnet.hrnet18_v2(x, n_class = 2, include_top = True, mode = \"ocr\") #mode = seg > hrnet v2 + semantic segmentation, clsf > hrnet v2 + classifier, ocr > hrnet v2 + ocr + semantic segmentation\n",
    "out = tf.keras.layers.UpSampling2D((4, 4))(out)\n",
    "model = tf.keras.Model(x, out)"
   ]
  },
  {
   "cell_type": "code",
   "execution_count": null,
   "metadata": {
    "id": "cka3vwta8pmU"
   },
   "outputs": [],
   "source": [
    "loss = tf.keras.losses.sparse_categorical_crossentropy\n",
    "opt = tf.keras.optimizers.SGD(1e-3, momentum = 0.9, nesterov = True)\n",
    "metric = [tf.keras.metrics.sparse_categorical_accuracy]\n",
    "model.compile(loss = loss, optimizer = opt, metrics = metric)"
   ]
  },
  {
   "cell_type": "code",
   "execution_count": null,
   "metadata": {
    "colab": {
     "base_uri": "https://localhost:8080/"
    },
    "executionInfo": {
     "elapsed": 51996,
     "status": "ok",
     "timestamp": 1646256557300,
     "user": {
      "displayName": "김형진",
      "photoUrl": "https://lh3.googleusercontent.com/a/default-user=s64",
      "userId": "05530574334109307920"
     },
     "user_tz": -540
    },
    "id": "S2T8gk6z9iBH",
    "outputId": "36cb276a-deb5-4ce2-f665-efbe388e67ff"
   },
   "outputs": [
    {
     "name": "stdout",
     "output_type": "stream",
     "text": [
      "Epoch 1/3\n",
      "31/31 [==============================] - 34s 288ms/step - loss: 1.3307 - sparse_categorical_accuracy: 0.7193 - val_loss: 0.6931 - val_sparse_categorical_accuracy: 0.0794\n",
      "Epoch 2/3\n",
      "31/31 [==============================] - 4s 116ms/step - loss: 0.6740 - sparse_categorical_accuracy: 0.4599 - val_loss: 0.6833 - val_sparse_categorical_accuracy: 0.2136\n",
      "Epoch 3/3\n",
      "31/31 [==============================] - 4s 129ms/step - loss: 0.6726 - sparse_categorical_accuracy: 0.4169 - val_loss: 0.6909 - val_sparse_categorical_accuracy: 0.3237\n"
     ]
    },
    {
     "data": {
      "text/plain": [
       "<keras.callbacks.History at 0x7fe847109210>"
      ]
     },
     "execution_count": 4,
     "metadata": {},
     "output_type": "execute_result"
    }
   ],
   "source": [
    "model.fit(tr_data, validation_data = te_data, epochs = 3)"
   ]
  },
  {
   "cell_type": "code",
   "execution_count": null,
   "metadata": {
    "id": "zOT6EKn7r1fg"
   },
   "outputs": [],
   "source": [
    "with open(\"model.json\", mode = \"w\") as file:\n",
    "    file.write(model.to_json())\n",
    "model.save_weights(\"model.h5\")"
   ]
  },
  {
   "cell_type": "code",
   "execution_count": null,
   "metadata": {
    "id": "bj6TFdHfr3EL"
   },
   "outputs": [],
   "source": [
    "with open(\"model.json\", mode = \"r\") as file:\n",
    "    model = tf.keras.models.model_from_json(file.read())\n",
    "model.load_weights(\"model.h5\")"
   ]
  },
  {
   "cell_type": "code",
   "execution_count": null,
   "metadata": {
    "colab": {
     "base_uri": "https://localhost:8080/"
    },
    "executionInfo": {
     "elapsed": 6248,
     "status": "ok",
     "timestamp": 1646256572568,
     "user": {
      "displayName": "김형진",
      "photoUrl": "https://lh3.googleusercontent.com/a/default-user=s64",
      "userId": "05530574334109307920"
     },
     "user_tz": -540
    },
    "id": "_unmO-L-r4sH",
    "outputId": "922e69c4-eea4-4396-d3ad-aecbb417d4eb"
   },
   "outputs": [
    {
     "name": "stdout",
     "output_type": "stream",
     "text": [
      "7/7 [==============================] - 6s 48ms/step - loss: 0.6909 - sparse_categorical_accuracy: 0.3237\n"
     ]
    },
    {
     "data": {
      "text/plain": [
       "[0.6908893585205078, 0.32372358441352844]"
      ]
     },
     "execution_count": 7,
     "metadata": {},
     "output_type": "execute_result"
    }
   ],
   "source": [
    "loss = tf.keras.losses.sparse_categorical_crossentropy\n",
    "metric = [tf.keras.metrics.sparse_categorical_accuracy]\n",
    "model.compile(loss = loss, metrics = metric)\n",
    "model.evaluate(te_data)"
   ]
  },
  {
   "cell_type": "code",
   "execution_count": null,
   "metadata": {
    "id": "ZrecdF5SsMD9"
   },
   "outputs": [],
   "source": []
  }
 ],
 "metadata": {
  "accelerator": "GPU",
  "colab": {
   "collapsed_sections": [],
   "name": "usage.ipynb",
   "provenance": []
  },
  "kernelspec": {
   "display_name": "Python 3 (ipykernel)",
   "language": "python",
   "name": "python3"
  },
  "language_info": {
   "codemirror_mode": {
    "name": "ipython",
    "version": 3
   },
   "file_extension": ".py",
   "mimetype": "text/x-python",
   "name": "python",
   "nbconvert_exporter": "python",
   "pygments_lexer": "ipython3",
   "version": "3.9.7"
  }
 },
 "nbformat": 4,
 "nbformat_minor": 4
}
